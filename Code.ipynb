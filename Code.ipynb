{
 "cells": [
  {
   "cell_type": "markdown",
   "metadata": {},
   "source": [
    "Exploratory Data Analysis\n",
    "\n",
    "*Author: Gavin Brumfield*"
   ]
  },
  {
   "cell_type": "markdown",
   "metadata": {},
   "source": [
    "Dependencies"
   ]
  },
  {
   "cell_type": "code",
   "execution_count": 33,
   "metadata": {},
   "outputs": [],
   "source": [
    "import pandas as pd\n",
    "import matplotlib.pyplot as plt\n",
    "import sqlite3\n",
    "from sklearn.preprocessing import MinMaxScaler"
   ]
  },
  {
   "cell_type": "markdown",
   "metadata": {},
   "source": [
    "Data"
   ]
  },
  {
   "cell_type": "code",
   "execution_count": 34,
   "metadata": {},
   "outputs": [],
   "source": [
    "# Create a SQL connection to our SQLite database\n",
    "conn = sqlite3.connect('challenge.db')\n",
    "\n",
    "# Pull each table into a pandas DataFrame\n",
    "access = pd.read_sql_query(\"SELECT * FROM access\", conn)\n",
    "five_hundred_cities = pd.read_sql_query(\"SELECT * FROM five_hundred_cities\", conn)\n",
    "variable_list = pd.read_sql_query(\"SELECT * FROM variable_list\", conn)"
   ]
  },
  {
   "cell_type": "markdown",
   "metadata": {},
   "source": [
    "Preprocessing"
   ]
  },
  {
   "cell_type": "code",
   "execution_count": 35,
   "metadata": {},
   "outputs": [],
   "source": [
    "# Filter variable_list to only include variables with Category Code 'ACCESS'\n",
    "# For ease of use when investigating the variables.\n",
    "access_variables = variable_list[variable_list['Category Code'] == 'ACCESS']"
   ]
  },
  {
   "cell_type": "code",
   "execution_count": 36,
   "metadata": {},
   "outputs": [],
   "source": [
    "# Applied a 50% weight to percent of population with low access, a 30% weight to children with low access, and a 20% weight to seniors to determine the overall rank of areas of highest impact.\n",
    "ranked = access\n",
    "ranked['Access_Score'] = ((ranked['PCT_LACCESS_POP15'] * 0.5) + (ranked['PCT_LACCESS_CHILD15'] * 0.3) + (ranked['PCT_LACCESS_SENIORS15'] * 0.2))\n",
    "# Sorted by access score for initial investigation.\n",
    "ranked = ranked.sort_values(['Access_Score'], ascending=False)"
   ]
  },
  {
   "cell_type": "code",
   "execution_count": 37,
   "metadata": {},
   "outputs": [],
   "source": [
    "# Scaling access score for later combination with health score.\n",
    "scaler = MinMaxScaler()\n",
    "ranked['Access_Score'] = scaler.fit_transform(ranked[['Access_Score']])\n",
    "\n",
    "# Write results to csv for Visualization in Tableau\n",
    "ranked.to_csv('access_ranked.csv', index=False)"
   ]
  },
  {
   "cell_type": "code",
   "execution_count": 38,
   "metadata": {},
   "outputs": [],
   "source": [
    "# Filter for only columns in five_hundred_cities that end in \"CrudePrev\"\n",
    "# This is to filter out the columns that are not relevant to the analysis.\n",
    "crude_prev = five_hundred_cities.filter(regex='CrudePrev')\n",
    "# Append the columns from five_hundred_cities that are relevant to the analysis.\n",
    "crude_prev = pd.concat([five_hundred_cities.iloc[:, 2:7], crude_prev], axis=1)\n",
    "\n",
    "# Selecting only relevant prevalence columns, excluding doctor visits etc. and focusing on health issues.\n",
    "# This is to filter out the columns that are not relevant to the analysis.\n",
    "health_issues = crude_prev[['ARTHRITIS_CrudePrev',\n",
    "                            'BINGE_CrudePrev',\n",
    "                            'BPHIGH_CrudePrev',\n",
    "                            'OBESITY_CrudePrev',\n",
    "                            'DIABETES_CrudePrev',\n",
    "                            'CHD_CrudePrev',\n",
    "                            'KIDNEY_CrudePrev',\n",
    "                            'PHLTH_CrudePrev',\n",
    "                            'STROKE_CrudePrev',\n",
    "                            'TEETHLOST_CrudePrev']]\n",
    "# Append the columns from five_hundred_cities that are relevant to the analysis.\n",
    "health_issues = pd.concat([five_hundred_cities.iloc[:, 2:7], health_issues], axis=1)"
   ]
  },
  {
   "cell_type": "code",
   "execution_count": 39,
   "metadata": {},
   "outputs": [],
   "source": [
    "# Scaling data between range of 0 and 1 for scoring.\n",
    "# Columns to scale\n",
    "columns_to_scale = health_issues.iloc[:, 5:15]\n",
    "# Create scaler\n",
    "scaler = MinMaxScaler()\n",
    "# Scale\n",
    "scaled = scaler.fit_transform(columns_to_scale)\n",
    "# Replace original columns with scaled\n",
    "health_issues.iloc[:, 5:15] = scaled"
   ]
  },
  {
   "cell_type": "code",
   "execution_count": 40,
   "metadata": {},
   "outputs": [],
   "source": [
    "# Weights for each health issue\n",
    "diabetes_weight = 0.25  # Strongest link to diet, high cost associated with medications and treatment.\n",
    "obesity_weight = 0.20  # Strong link to diet, high impact on overall health.\n",
    "bphigh_weight = 0.15  # Strong link to diet, medium cost associated with medications and treatment.\n",
    "chd_weight = 0.10  # Strong link to diet.\n",
    "kidney_weight = 0.10  # Moderate link to diet, potential for serious complications \n",
    "stroke_weight = 0.08  # Strong link to diet, high impact on quality of life\n",
    "plth_weight = 0.05  # Moderate link to diet, potential for serious complications\n",
    "binge_weight = 0.04  # Moderate link to diet, mental health implications\n",
    "arthritis_weight = 0.02  # Limited direct dietary impact, but diet can influence overall health and inflammation\n",
    "teethlost_weight = 0.01  # Primarily a consequence of other health factors, but diet plays a role in oral health\n",
    "\n",
    "# Calculate the overall health score for each city\n",
    "health_issues['Health_Score'] = (health_issues['DIABETES_CrudePrev'] * diabetes_weight) + \\\n",
    "                                (health_issues['OBESITY_CrudePrev'] * obesity_weight) + \\\n",
    "                                (health_issues['BPHIGH_CrudePrev'] * bphigh_weight) + \\\n",
    "                                (health_issues['CHD_CrudePrev'] * chd_weight) + \\\n",
    "                                (health_issues['KIDNEY_CrudePrev'] * kidney_weight) + \\\n",
    "                                (health_issues['STROKE_CrudePrev'] * stroke_weight) + \\\n",
    "                                (health_issues['PHLTH_CrudePrev'] * plth_weight) + \\\n",
    "                                (health_issues['BINGE_CrudePrev'] * binge_weight) + \\\n",
    "                                (health_issues['ARTHRITIS_CrudePrev'] * arthritis_weight) + \\\n",
    "                                (health_issues['TEETHLOST_CrudePrev'] * teethlost_weight)\n",
    "\n",
    "# Sorting by health score for initial investigation.\n",
    "ranked_health = health_issues.sort_values(['Health_Score'], ascending=False)\n",
    "\n",
    "# Write results to csv for Visualization in Tableau\n",
    "ranked_health.to_csv('health_ranked.csv')"
   ]
  },
  {
   "cell_type": "code",
   "execution_count": 41,
   "metadata": {},
   "outputs": [],
   "source": [
    "# Extract county FIPS code\n",
    "ranked_health['PlaceFIPS'] = ranked_health['PlaceFIPS'].astype(str)\n",
    "ranked_health['CountyFIPS'] = ranked_health['PlaceFIPS'].str[:5]\n",
    "\n",
    "# Ensure FIPS in ranked is a string\n",
    "ranked['FIPS'] = ranked['FIPS'].astype(str)\n",
    "\n",
    "# Merge ranked_health and ranked on CountyFIPS\n",
    "merged = pd.merge(ranked_health, ranked, left_on='CountyFIPS', right_on='FIPS', how='inner')"
   ]
  },
  {
   "cell_type": "code",
   "execution_count": 42,
   "metadata": {},
   "outputs": [],
   "source": [
    "merged['Overall_Score'] = (merged['Access_Score'] * 0.6) + (merged['Health_Score'] * 0.4)\n",
    "\n",
    "merged_final = merged.sort_values(['Overall_Score'], ascending=False).head(50)\n",
    "\n",
    "# Write results to csv for Visualization in Tableau\n",
    "merged_final.to_csv('merged_ranked.csv', index=False)\n",
    "merged.to_csv('merged.csv', index=False)"
   ]
  },
  {
   "cell_type": "markdown",
   "metadata": {},
   "source": [
    "Tyler, TX and Hopewell, VA counties should be our main focus as each occur most frequently in the top 50 ranked based on overall score."
   ]
  },
  {
   "cell_type": "code",
   "execution_count": 43,
   "metadata": {},
   "outputs": [
    {
     "name": "stdout",
     "output_type": "stream",
     "text": [
      "----------------------------------------------\n",
      "Total Impact\n",
      "----------------------------------------------\n",
      "Expected Reach: 477479.97230820433\n",
      "Expected Children Reach: 97339.34614307736\n",
      "Expected Senior Reach: 77276.86267436568\n",
      "----------------------------------------------\n",
      "Tyler County, TX\n",
      "----------------------------------------------\n",
      "Expected Reach: 279896.5864341816\n",
      "Expected Children Reach: 52905.21962143392\n",
      "Expected Senior Reach: 44382.68639751912\n",
      "----------------------------------------------\n",
      "Hopewell County, VA\n",
      "----------------------------------------------\n",
      "Expected Reach: 197583.38587402273\n",
      "Expected Children Reach 44434.12652164344\n",
      "Expected Senior Reach 32894.176276846556\n"
     ]
    }
   ],
   "source": [
    "tyler = merged_final[merged_final['County'] == 'Tyler']\n",
    "hopewell = merged_final[merged_final['County'] == 'Hopewell']\n",
    "\n",
    "t_pop = tyler['LACCESS_POP15'].sum()\n",
    "t_child = tyler['LACCESS_CHILD15'].sum()\n",
    "t_senior = tyler['LACCESS_SENIORS15'].sum()\n",
    "\n",
    "h_pop = hopewell['LACCESS_POP15'].sum()\n",
    "h_child = hopewell['LACCESS_CHILD15'].sum()\n",
    "h_senior = hopewell['LACCESS_SENIORS15'].sum()\n",
    "\n",
    "print(\"----------------------------------------------\")\n",
    "print(\"Total Impact\")\n",
    "print(\"----------------------------------------------\")\n",
    "print(\"Expected Reach:\", t_pop + h_pop)\n",
    "print(\"Expected Children Reach:\", t_child + h_child)\n",
    "print(\"Expected Senior Reach:\", t_senior + h_senior)\n",
    "print(\"----------------------------------------------\")\n",
    "print(\"Tyler County, TX\")\n",
    "print(\"----------------------------------------------\")\n",
    "print(\"Expected Reach:\", t_pop)\n",
    "print(\"Expected Children Reach:\", t_child)\n",
    "print(\"Expected Senior Reach:\", t_senior)\n",
    "print(\"----------------------------------------------\")\n",
    "print(\"Hopewell County, VA\")\n",
    "print(\"----------------------------------------------\")\n",
    "print(\"Expected Reach:\", h_pop)\n",
    "print(\"Expected Children Reach\", h_child)\n",
    "print(\"Expected Senior Reach\", h_senior)\n",
    "\n"
   ]
  }
 ],
 "metadata": {
  "kernelspec": {
   "display_name": "base",
   "language": "python",
   "name": "python3"
  },
  "language_info": {
   "codemirror_mode": {
    "name": "ipython",
    "version": 3
   },
   "file_extension": ".py",
   "mimetype": "text/x-python",
   "name": "python",
   "nbconvert_exporter": "python",
   "pygments_lexer": "ipython3",
   "version": "3.9.7"
  }
 },
 "nbformat": 4,
 "nbformat_minor": 2
}
